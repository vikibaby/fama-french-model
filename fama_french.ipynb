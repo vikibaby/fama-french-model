{
 "cells": [
  {
   "cell_type": "code",
   "execution_count": 1,
   "metadata": {},
   "outputs": [],
   "source": [
    "import function_book as f\n",
    "import pandas as pd\n",
    "import numpy as np\n",
    "import baostock as bs"
   ]
  },
  {
   "cell_type": "code",
   "execution_count": 8,
   "metadata": {},
   "outputs": [],
   "source": [
    "step1_file= \"tmt_stock_basic.csv\" \n",
    "step2_file = \"TMT_stock_price.csv\"\n",
    "step3_file = \"TMT_stock_details.csv\"\n",
    "\n",
    "class my_fama_french:\n",
    "    \n",
    "    def __init__(self,start_date_str = \"2018-04-02\",end_date_str = \"2020-04-30\",\n",
    "                 back_test_year = 2,stockspool_details_file = step3_file,\n",
    "                 stockspool_price_file = None,stockspool_basic_file=None):\n",
    "        \n",
    "        # start date of backing test start_date_str \n",
    "        # end date of backing test end_date_str\n",
    "        self.back_test_year = back_test_year \n",
    "        \n",
    "        self.trading_date = 245\n",
    "        self.short = False \n",
    "        self.prof_size = None\n",
    "        #self.freq = False\n",
    "        \n",
    "        self.s_selected_list = None\n",
    "        self.s_profolio = None\n",
    "        \n",
    "        self.profolio = []\n",
    "        self.selected_list = [] \n",
    "        self.stock_results_df = None\n",
    "        \n",
    "        # generate self.stock_details_df\n",
    "        if stockspool_details_file is not None: # including factor we need \n",
    "            self.stock_details_df = pd.read_csv(stockspool_details_file, encoding='utf_8')\n",
    "        else:\n",
    "            ave_step = 5 # average days of close.average pbMRQ. f.generate_stock_price\n",
    "            quarter_date_list = f.get_quarter_date_list(start_date_str,end_date_str)\n",
    "            if stockspool_price_file is not None:\n",
    "                stock_price_df = pd.read_csv(stockspool_price_file, encoding='utf_8')\n",
    "                self.stock_details_df = f.generate_stock_details(stock_price_df,quarter_date_list)\n",
    "            else:\n",
    "                if stockspool_basic_file is not None:\n",
    "                    stock_basic_df = pd.read_csv(stockspool_basic_file, encoding='utf_8')  #my stocks pool, which including code and codename\n",
    "                    stock_price_df = f.generate_stock_price(stock_basic_df,start_date_str,end_date_str,ave_step,columns_str = \"date,code,close,pbMRQ,isST\")\n",
    "                    self.stock_details_df = f.generate_stock_details(stock_price_df,quarter_date_list)\n",
    "                else:\n",
    "                    print(\"failed initilization, pls give stockspool\")\n",
    "                    \n",
    "    def get_famafrench_stocks(self,prof_size:int,freq=False,short=False):\n",
    "        self.prof_size = prof_size #number of stocks select from the strategy\n",
    "        #self.freq = freq # false means, only rebalance weight when stocks changes\n",
    "        self.short = short\n",
    "        (self.select_list,self.s_select_list) = f.get_famafrench_stocks(self.stock_details_df,self.prof_size,freq,self.short)\n",
    "        \n",
    "    def get_profolio_performance(self,chunk_size:int,profolio = None):\n",
    "        \n",
    "        if profolio is None:\n",
    "            profolio = f.all_rebalance_weights(self.select_list,[],chunk_size)\n",
    "            \n",
    "        result = f.profolio_ana(profolio,self.prof_size)\n",
    "        result['sum'] = result.sum(axis = 1)\n",
    "        backtest_enddate = result.index[245*self.back_test_year]\n",
    "        backtest_result = result.loc[:backtest_enddate]\n",
    "        profit =backtest_result.iloc[-1]['sum']/ backtest_result.iloc[0]['sum']\n",
    "        Annual_return_rate  = (profit ** (1/self.back_test_year) -1 ) *100\n",
    "        delta = f.max_withdrawal_rate(backtest_result['sum'])\n",
    "       \n",
    "        print(\"profolio size:\",self.prof_size,\" profolio weights: simulate\",chunk_size,\"year. annual return\",Annual_return_rate, \"  max withdraw:\",delta)\n",
    "        #return profit,Annual_return_rate, delta\n",
    "        return backtest_result\n",
    "    "
   ]
  },
  {
   "cell_type": "code",
   "execution_count": null,
   "metadata": {},
   "outputs": [],
   "source": []
  },
  {
   "cell_type": "code",
   "execution_count": 10,
   "metadata": {},
   "outputs": [
    {
     "name": "stdout",
     "output_type": "stream",
     "text": [
      "login success!\n",
      "logout success!\n",
      "profolio size: 3  profolio weights: simulate 3 year. annual return 34.17745996958119   max withdraw: 28.24730635456359\n"
     ]
    }
   ],
   "source": [
    "obj3 = my_fama_french()\n",
    "obj3.get_famafrench_stocks(prof_size = 3)# profolio with 3 stocks\n",
    "profolio_3 = obj3.get_profolio_performance(chunk_size = 3)"
   ]
  },
  {
   "cell_type": "code",
   "execution_count": 7,
   "metadata": {},
   "outputs": [
    {
     "data": {
      "text/plain": [
       "[<matplotlib.lines.Line2D at 0x7fd8da502490>]"
      ]
     },
     "execution_count": 7,
     "metadata": {},
     "output_type": "execute_result"
    },
    {
     "data": {
      "image/png": "[encoded data removed]",
      "text/plain": [
       "<Figure size 432x288 with 1 Axes>"
      ]
     },
     "metadata": {
      "needs_background": "light"
     },
     "output_type": "display_data"
    }
   ],
   "source": [
    "import matplotlib.pyplot as plt\n",
    "plt.plot(np.arange(0,len(profolio_3),1),profolio_3['sum'])"
   ]
  }
 ],
 "metadata": {
  "kernelspec": {
   "display_name": "Python 3",
   "language": "python",
   "name": "python3"
  },
  "language_info": {
   "codemirror_mode": {
    "name": "ipython",
    "version": 3
   },
   "file_extension": ".py",
   "mimetype": "text/x-python",
   "name": "python",
   "nbconvert_exporter": "python",
   "pygments_lexer": "ipython3",
   "version": "3.7.6"
  }
 },
 "nbformat": 4,
 "nbformat_minor": 4
}
