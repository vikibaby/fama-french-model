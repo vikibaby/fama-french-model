{
 "cells": [
  {
   "cell_type": "code",
   "execution_count": 1,
   "metadata": {},
   "outputs": [],
   "source": [
    "import function_book as f\n",
    "import pandas as pd"
   ]
  },
  {
   "cell_type": "code",
   "execution_count": 2,
   "metadata": {},
   "outputs": [],
   "source": [
    "import numpy as np\n",
    "import baostock as bs"
   ]
  },
  {
   "cell_type": "code",
   "execution_count": 4,
   "metadata": {},
   "outputs": [],
   "source": [
    "step1_file= \"tmt_stock_basic.csv\"\n",
    "step2_file = \"TMT_stock_price.csv\"\n",
    "step3_file = \"TMT_stock_details.csv\"\n",
    "step4_file = \"TMT_stock_results.csv\"\n",
    "\n",
    "\n",
    "start_date_str = \"2018-04-02\" # start date of backing test \n",
    "end_date_str = \"2020-04-30\" # end date of backing test\n",
    "ave_step = 5 # the days is calculation average close.average pbMRQ.\n",
    "quarter_date_list = f.get_quarter_date_list(start_date_str,end_date_str)\n",
    "#[\"2019-04-01\",\"2019-07-01\",\"2019-10-01\",\"2020-01-01\",\"2020-04-01\",\"2020-07-01\"]\n",
    "# quarter date during backing test period"
   ]
  },
  {
   "cell_type": "code",
   "execution_count": 5,
   "metadata": {},
   "outputs": [
    {
     "name": "stdout",
     "output_type": "stream",
     "text": [
      "login success!\n",
      "sz.000021,sz.000063,sz.000066,sz.000100,sz.000503,sz.000586,sz.000733,sz.000793,sz.000836,sz.000917,sz.000938,sz.002073,sz.002093,sz.002115,sz.002148,sz.002151,sz.002152,sz.002181,sz.002195,sz.300017,sz.300027,sz.300058,sz.300205,sz.300392,sh.600060,sh.600088,sh.600601,sh.600770,sh.600839,sh.600880,sh.601999,logout success!\n"
     ]
    }
   ],
   "source": [
    "stock_basic_df = pd.read_csv(step1_file, encoding='utf_8') \n",
    "f.generate_stock_price(stock_basic_df,start_date_str,end_date_str,ave_step,columns_str = \"date,code,close,pbMRQ,isST\")"
   ]
  },
  {
   "cell_type": "code",
   "execution_count": 6,
   "metadata": {},
   "outputs": [
    {
     "data": {
      "text/html": [
       "<div>\n",
       "<style scoped>\n",
       "    .dataframe tbody tr th:only-of-type {\n",
       "        vertical-align: middle;\n",
       "    }\n",
       "\n",
       "    .dataframe tbody tr th {\n",
       "        vertical-align: top;\n",
       "    }\n",
       "\n",
       "    .dataframe thead th {\n",
       "        text-align: right;\n",
       "    }\n",
       "</style>\n",
       "<table border=\"1\" class=\"dataframe\">\n",
       "  <thead>\n",
       "    <tr style=\"text-align: right;\">\n",
       "      <th></th>\n",
       "      <th>Unnamed: 0</th>\n",
       "      <th>code</th>\n",
       "      <th>code_name</th>\n",
       "    </tr>\n",
       "  </thead>\n",
       "  <tbody>\n",
       "    <tr>\n",
       "      <th>0</th>\n",
       "      <td>0</td>\n",
       "      <td>sz.000021</td>\n",
       "      <td>深科技</td>\n",
       "    </tr>\n",
       "    <tr>\n",
       "      <th>1</th>\n",
       "      <td>1</td>\n",
       "      <td>sz.000063</td>\n",
       "      <td>中兴通讯</td>\n",
       "    </tr>\n",
       "  </tbody>\n",
       "</table>\n",
       "</div>"
      ],
      "text/plain": [
       "   Unnamed: 0       code code_name\n",
       "0           0  sz.000021       深科技\n",
       "1           1  sz.000063      中兴通讯"
      ]
     },
     "execution_count": 6,
     "metadata": {},
     "output_type": "execute_result"
    }
   ],
   "source": [
    "stock_basic_df.head(2)"
   ]
  },
  {
   "cell_type": "code",
   "execution_count": 7,
   "metadata": {},
   "outputs": [
    {
     "name": "stdout",
     "output_type": "stream",
     "text": [
      "login success!\n",
      "2018-04-01,2018-07-01,2018-10-01,2019-01-01,2019-04-01,2019-07-01,2019-10-01,2020-01-01,logout success!\n"
     ]
    }
   ],
   "source": [
    "stock_price_df = pd.read_csv(step2_file, encoding='utf_8') \n",
    "f.generate_stock_details(stock_price_df,quarter_date_list)"
   ]
  },
  {
   "cell_type": "code",
   "execution_count": 8,
   "metadata": {},
   "outputs": [
    {
     "data": {
      "text/html": [
       "<div>\n",
       "<style scoped>\n",
       "    .dataframe tbody tr th:only-of-type {\n",
       "        vertical-align: middle;\n",
       "    }\n",
       "\n",
       "    .dataframe tbody tr th {\n",
       "        vertical-align: top;\n",
       "    }\n",
       "\n",
       "    .dataframe thead th {\n",
       "        text-align: right;\n",
       "    }\n",
       "</style>\n",
       "<table border=\"1\" class=\"dataframe\">\n",
       "  <thead>\n",
       "    <tr style=\"text-align: right;\">\n",
       "      <th></th>\n",
       "      <th>date</th>\n",
       "      <th>code</th>\n",
       "      <th>close</th>\n",
       "      <th>pbMRQ</th>\n",
       "      <th>isST</th>\n",
       "      <th>ave_close</th>\n",
       "      <th>ave_pbMRQ</th>\n",
       "      <th>code_name</th>\n",
       "    </tr>\n",
       "  </thead>\n",
       "  <tbody>\n",
       "    <tr>\n",
       "      <th>0</th>\n",
       "      <td>2018-04-10</td>\n",
       "      <td>sz.000021</td>\n",
       "      <td>8.56</td>\n",
       "      <td>2.167410</td>\n",
       "      <td>0</td>\n",
       "      <td>8.640</td>\n",
       "      <td>2.187666</td>\n",
       "      <td>深科技</td>\n",
       "    </tr>\n",
       "    <tr>\n",
       "      <th>1</th>\n",
       "      <td>2018-04-17</td>\n",
       "      <td>sz.000021</td>\n",
       "      <td>8.55</td>\n",
       "      <td>2.147845</td>\n",
       "      <td>0</td>\n",
       "      <td>8.750</td>\n",
       "      <td>2.201581</td>\n",
       "      <td>深科技</td>\n",
       "    </tr>\n",
       "    <tr>\n",
       "      <th>2</th>\n",
       "      <td>2018-04-24</td>\n",
       "      <td>sz.000021</td>\n",
       "      <td>9.65</td>\n",
       "      <td>2.424176</td>\n",
       "      <td>0</td>\n",
       "      <td>9.504</td>\n",
       "      <td>2.387499</td>\n",
       "      <td>深科技</td>\n",
       "    </tr>\n",
       "    <tr>\n",
       "      <th>3</th>\n",
       "      <td>2018-05-03</td>\n",
       "      <td>sz.000021</td>\n",
       "      <td>9.03</td>\n",
       "      <td>2.271039</td>\n",
       "      <td>0</td>\n",
       "      <td>9.312</td>\n",
       "      <td>2.340303</td>\n",
       "      <td>深科技</td>\n",
       "    </tr>\n",
       "    <tr>\n",
       "      <th>4</th>\n",
       "      <td>2018-05-10</td>\n",
       "      <td>sz.000021</td>\n",
       "      <td>8.84</td>\n",
       "      <td>2.223255</td>\n",
       "      <td>0</td>\n",
       "      <td>8.942</td>\n",
       "      <td>2.248908</td>\n",
       "      <td>深科技</td>\n",
       "    </tr>\n",
       "  </tbody>\n",
       "</table>\n",
       "</div>"
      ],
      "text/plain": [
       "         date       code  close     pbMRQ  isST  ave_close  ave_pbMRQ  \\\n",
       "0  2018-04-10  sz.000021   8.56  2.167410     0      8.640   2.187666   \n",
       "1  2018-04-17  sz.000021   8.55  2.147845     0      8.750   2.201581   \n",
       "2  2018-04-24  sz.000021   9.65  2.424176     0      9.504   2.387499   \n",
       "3  2018-05-03  sz.000021   9.03  2.271039     0      9.312   2.340303   \n",
       "4  2018-05-10  sz.000021   8.84  2.223255     0      8.942   2.248908   \n",
       "\n",
       "  code_name  \n",
       "0       深科技  \n",
       "1       深科技  \n",
       "2       深科技  \n",
       "3       深科技  \n",
       "4       深科技  "
      ]
     },
     "execution_count": 8,
     "metadata": {},
     "output_type": "execute_result"
    }
   ],
   "source": [
    "stock_price_df.head()"
   ]
  },
  {
   "cell_type": "code",
   "execution_count": null,
   "metadata": {},
   "outputs": [],
   "source": []
  },
  {
   "cell_type": "code",
   "execution_count": 9,
   "metadata": {},
   "outputs": [],
   "source": [
    "prof_size = 3 #number of stocks select from the strategy\n",
    "freq = False # false means, only rebalance weight when stocks changes\n",
    "short = False\n",
    "chunk_size = 3 # how many years data to simulate the weights"
   ]
  },
  {
   "cell_type": "code",
   "execution_count": 10,
   "metadata": {},
   "outputs": [],
   "source": [
    "unsorted_df = pd.read_csv(step3_file,encoding='utf_8')\n",
    "(selected_list,sselected_list) = f.get_famafrench_stocks(unsorted_df,prof_size,freq,short)\n",
    "(stocks_id,start_opt_date,end_opt_date) = f.processing_selected_list(selected_list,chunk_size)"
   ]
  },
  {
   "cell_type": "code",
   "execution_count": 11,
   "metadata": {},
   "outputs": [],
   "source": [
    "profolio = f.all_rebalance_weights(selected_list,chunk_size = 3)"
   ]
  },
  {
   "cell_type": "code",
   "execution_count": 24,
   "metadata": {},
   "outputs": [],
   "source": [
    "import matplotlib.pyplot as plt\n",
    "def result_ana(result):\n",
    "    result['sum'] = result.sum(axis = 1)\n",
    "    result = result.loc['2018-04-10':'2020-04-10']\n",
    "    profit = result.iloc[-1]['sum']/ result.iloc[0]['sum']\n",
    "    \n",
    "    print(\"Annual return rate:\",(np.sqrt(profit)-1)*100,\"%, worst case:\", result['sum'].min()/result['sum'][0],end = ',')\n",
    "    '''\n",
    "    sum_list = result['sum'].tolist()\n",
    "    max_id = sum_list.index(result['sum'].max())\n",
    "    min_val = result['sum'][max_id:].min()\n",
    "    min_id = sum_list.index(min_val)\n",
    "    print(\"回撤:\",min_id-max_id,'days',(result['sum'].max() - min_val )/result['sum'].max())\n",
    "    '''\n",
    "    return plt.plot(np.arange(0,len(result),1),result['sum'])"
   ]
  },
  {
   "cell_type": "code",
   "execution_count": 23,
   "metadata": {},
   "outputs": [
    {
     "name": "stdout",
     "output_type": "stream",
     "text": [
      "login success!\n",
      "['date', 'capital0', 'capital1', 'capital2']\n",
      "0,1,2,0,1,2,0,1,2,0,1,2,0,1,2,0,1,2,0,1,2,0,1,2,0,1,2,0,1,2,0,1,2,0,1,2,0,1,2,0,1,2,0,1,2,0,1,2,0,1,2,0,1,2,0,1,2,0,1,2,0,1,2,0,1,2,0,1,2,0,1,2,0,1,2,0,1,2,0,1,2,0,1,2,0,1,2,0,1,2,logout success!\n",
      "Annual return rate: 76.93425633534841 %, worst case: 0.7481627674890846,"
     ]
    },
    {
     "data": {
      "text/plain": [
       "[<matplotlib.lines.Line2D at 0x7f7a3b940510>]"
      ]
     },
     "execution_count": 23,
     "metadata": {},
     "output_type": "execute_result"
    },
    {
     "data": {
      "image/png": "[encoded data removed]",
      "text/plain": [
       "<Figure size 432x288 with 1 Axes>"
      ]
     },
     "metadata": {
      "needs_background": "light"
     },
     "output_type": "display_data"
    }
   ],
   "source": [
    "result = f.profolio_ana(profolio,prof_size)\n",
    "result_ana(result.copy())"
   ]
  },
  {
   "cell_type": "code",
   "execution_count": null,
   "metadata": {},
   "outputs": [],
   "source": []
  }
 ],
 "metadata": {
  "kernelspec": {
   "display_name": "Python 3",
   "language": "python",
   "name": "python3"
  },
  "language_info": {
   "codemirror_mode": {
    "name": "ipython",
    "version": 3
   },
   "file_extension": ".py",
   "mimetype": "text/x-python",
   "name": "python",
   "nbconvert_exporter": "python",
   "pygments_lexer": "ipython3",
   "version": "3.7.6"
  }
 },
 "nbformat": 4,
 "nbformat_minor": 4
}
